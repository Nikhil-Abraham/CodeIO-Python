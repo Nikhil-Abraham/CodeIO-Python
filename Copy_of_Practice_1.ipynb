{
  "nbformat": 4,
  "nbformat_minor": 0,
  "metadata": {
    "colab": {
      "name": "Copy of Practice 1.ipynb",
      "provenance": [],
      "collapsed_sections": []
    },
    "kernelspec": {
      "name": "python3",
      "display_name": "Python 3"
    },
    "language_info": {
      "name": "python"
    }
  },
  "cells": [
    {
      "cell_type": "markdown",
      "metadata": {
        "id": "sSHNWVwQ0Z2w"
      },
      "source": [
        "Practice assignment 1 \n",
        "---                                                       \n",
        "To get started with some simple code execution, please carry out the following operations.For each operation, create a new code cell\n",
        "1. Take a variable `a`, and a variable `b`. Assign some values to them, find their sum, product, difference, quotient, remainder and find a to the power of b(`a^b`)  \n",
        "\n"
      ]
    },
    {
      "cell_type": "code",
      "metadata": {
        "id": "WFwPVugte8m_"
      },
      "source": [
        "#solution\n",
        "a=5\n",
        "b=4\n",
        "print(a+b)\n",
        "print(a-b)\n",
        "print(a*b)\n",
        "print(a%b)\n",
        "print(a/b)\n",
        "print(a**b)"
      ],
      "execution_count": null,
      "outputs": []
    },
    {
      "cell_type": "markdown",
      "metadata": {
        "id": "AtJvlbpi454J"
      },
      "source": [
        "2. After execution, now take external input from user using the `input()` keyword. Take input for String, and a number. Do the following: \n",
        "  1. Concat the two data types into a variable `c`. "
      ]
    },
    {
      "cell_type": "code",
      "metadata": {
        "id": "ITPw8wPJ5AsG"
      },
      "source": [
        "#solution\n",
        "a = input(\"Enter the string1:\")\n",
        "b = input(\"Enter the string2:\")\n",
        "c= a + \" \" + b\n",
        "print(c)"
      ],
      "execution_count": null,
      "outputs": []
    },
    {
      "cell_type": "markdown",
      "metadata": {
        "id": "4Q4W4Y975dsq"
      },
      "source": [
        "2. Perform multiplication of the 2 data types, store it in `d`. Find data type of variable `d` and print it. "
      ]
    },
    {
      "cell_type": "code",
      "metadata": {
        "id": "a1uOt6CS5iAE",
        "colab": {
          "base_uri": "https://localhost:8080/"
        },
        "outputId": "1bc010e1-d36c-4701-f6b2-2c24cad96bd7"
      },
      "source": [
        "#solution\n",
        "a = 30\n",
        "b = 56\n",
        "d = a * b\n",
        "print(type(d))\n",
        "print(d)"
      ],
      "execution_count": null,
      "outputs": [
        {
          "output_type": "stream",
          "text": [
            "<class 'int'>\n",
            "1680\n"
          ],
          "name": "stdout"
        }
      ]
    },
    {
      "cell_type": "markdown",
      "metadata": {
        "id": "XKEwMYrz5m9c"
      },
      "source": [
        "3. Take input of 2 strings. Perform concatination of those strings using the `+` operator and the `,` operator."
      ]
    },
    {
      "cell_type": "code",
      "metadata": {
        "id": "ZLM1tmT35qI_",
        "colab": {
          "base_uri": "https://localhost:8080/"
        },
        "outputId": "80e91eef-a00e-4425-b73f-bae4f1409374"
      },
      "source": [
        "#solution\n",
        "a = input('Enter String1')\n",
        "b = input('Enter String2')\n",
        "\n",
        "print(a + \" \" + b)\n",
        "print(a,b)"
      ],
      "execution_count": null,
      "outputs": [
        {
          "output_type": "stream",
          "text": [
            "Enter String1Hey\n",
            "Enter String2Bro\n",
            "Hey Bro\n",
            "Hey Bro\n"
          ],
          "name": "stdout"
        }
      ]
    },
    {
      "cell_type": "markdown",
      "metadata": {
        "id": "6co_8dPL5-_M"
      },
      "source": [
        "4. Take input of number and string. Concat the 2 variables and print the output."
      ]
    },
    {
      "cell_type": "code",
      "metadata": {
        "id": "K4oB9r9s6WRx",
        "colab": {
          "base_uri": "https://localhost:8080/"
        },
        "outputId": "62cac4d9-e718-4dc3-9343-0e32bebefee7"
      },
      "source": [
        "a = input('Enter String:')\n",
        "b = int(input('Enter Number:'))\n",
        "d = a+str(b)\n",
        "print(d)"
      ],
      "execution_count": null,
      "outputs": [
        {
          "output_type": "stream",
          "text": [
            "Enter String:hey\n",
            "Enter Number:6\n"
          ],
          "name": "stdout"
        }
      ]
    },
    {
      "cell_type": "markdown",
      "metadata": {
        "id": "E3OdFmn17BIP"
      },
      "source": [
        "For the code below, give an input such that you will get an error all the time\n",
        "---"
      ]
    },
    {
      "cell_type": "code",
      "metadata": {
        "id": "oHwsb3mV7NZF"
      },
      "source": [
        "x=float(input(\"Enter number for x: \"))\n",
        "y=float(input(\"Enter number for y: \"))\n",
        "if x==y: \n",
        "  print(\"x and y are equal\")\n",
        "  if y!= 0:\n",
        "    print(\"thus x/y is\",x/y)\n",
        "elif x<y: \n",
        "  print(\"x is smaller\")\n",
        "else:\n",
        "  print(\"y is smaller\")\n",
        "print(\"thanks\")"
      ],
      "execution_count": null,
      "outputs": []
    },
    {
      "cell_type": "markdown",
      "metadata": {
        "id": "tP8L8lWv7Uuu"
      },
      "source": [
        "In the above code, now make the modification such that the input is of string data type, and instead of performing `x/y` modify that to finding the quotient of their ascii values. Eg: string `hello` has the ascii values `104 101 108 108 111`.  If `x < y` then concat the two strings. If `x > y` then take a number `n` and then print the concated string `n` times. "
      ]
    },
    {
      "cell_type": "code",
      "metadata": {
        "id": "J_5hH0lC-V14",
        "colab": {
          "base_uri": "https://localhost:8080/"
        },
        "outputId": "147be774-85c4-412a-cca5-e138c611620b"
      },
      "source": [
        "#Enter code after the variables\n",
        "x= input('Enter number for x:')\n",
        "y= input('Enter number for y:')\n",
        "a = ''.join(str(ord(c)) for c in x)\n",
        "b = ''.join(str(ord(c)) for c in y)\n",
        "print('All values are in ASCII: ')\n",
        "if a==b: \n",
        "  print(\"x and y are equal\")\n",
        "  if b!= 0:\n",
        "    #Enter the modification after this \n",
        "    print(int(a)/int(b))\n",
        "elif x<y: \n",
        "  #Enter code here\n",
        "  print('Concatination: ',a+b)\n",
        "else:\n",
        "  #Enter code here\n",
        "  n = int(input('Enter n value :'))\n",
        "  for i in range(n):\n",
        "    print('Concatination: ',a+b)\n",
        "    "
      ],
      "execution_count": null,
      "outputs": [
        {
          "output_type": "stream",
          "text": [
            "Enter number for x:hey \n",
            "Enter number for y:wassup\n",
            "All values are in ASCII: \n",
            "Concatination:  1041011213211997115115117112\n"
          ],
          "name": "stdout"
        }
      ]
    },
    {
      "cell_type": "markdown",
      "metadata": {
        "id": "SacUr4KU_iGF"
      },
      "source": [
        "<hr/>\n",
        "\n",
        "\n",
        "Complete the code below. In case it's helpful, here is the table of available arithmetic operations:\n",
        "\n",
        "\n",
        "\n",
        "| Operator     | Name           | Description                                            |\n",
        "|--------------|----------------|--------------------------------------------------------|\n",
        "| ``a + b``    | Addition       | Sum of ``a`` and ``b``                                 |\n",
        "| ``a - b``    | Subtraction    | Difference of ``a`` and ``b``                          |\n",
        "| ``a * b``    | Multiplication | Product of ``a`` and ``b``                             |\n",
        "| ``a / b``    | True division  | Quotient of ``a`` and ``b``                            |\n",
        "| ``a // b``   | Floor division | Quotient of ``a`` and ``b``, removing fractional parts |\n",
        "| ``a % b``    | Modulus        | Integer remainder after division of ``a`` by ``b``     |\n",
        "| ``a ** b``   | Exponentiation | ``a`` raised to the power of ``b``                     |\n",
        "| ``-a``       | Negation       | The negative of ``a``                                  |\n",
        "\n",
        "<span style=\"display:none\"></span>"
      ]
    },
    {
      "cell_type": "code",
      "metadata": {
        "id": "FNz8mH7l_lSo"
      },
      "source": [
        "pi = 3.14159 \n",
        "diameter = 3\n",
        "\n",
        "# Create a variable called 'radius' equal to half the diameter\n",
        "radius = diameter/2\n",
        "\n",
        "# Create a variable called 'area', using the formula for the area of a circle: pi times the radius squared\n",
        "area = pi*(radius**2)\n",
        "\n"
      ],
      "execution_count": null,
      "outputs": []
    },
    {
      "cell_type": "markdown",
      "metadata": {
        "id": "VWn1rI2gAC4r"
      },
      "source": [
        "<hr/>\n",
        "\n",
        "\n",
        "\n",
        "Add code to the following cell to swap variables `a` and `b` (so that `a` refers to the object previously referred to by `b` and vice versa)."
      ]
    },
    {
      "cell_type": "code",
      "metadata": {
        "id": "5Hz-A33RAFMc"
      },
      "source": [
        "a = 20\n",
        "b = 30\n",
        "#The solution is much simpler than you think. Although this has not been taught, this is a good excersice for you to learn on your own. \n",
        "tmp = a\n",
        "a = b\n",
        "b = tmp"
      ],
      "execution_count": null,
      "outputs": []
    },
    {
      "cell_type": "markdown",
      "metadata": {
        "id": "oboBArAqAVjf"
      },
      "source": [
        "Add parentheses to the following expression so that it evaluates to 1."
      ]
    },
    {
      "cell_type": "code",
      "metadata": {
        "id": "yIuisxWqAiaL",
        "colab": {
          "base_uri": "https://localhost:8080/"
        },
        "outputId": "f5ddcb0d-d404-494b-f607-daa51ba91965"
      },
      "source": [
        "(5 - 3) // 2"
      ],
      "execution_count": null,
      "outputs": [
        {
          "output_type": "stream",
          "text": [
            "1\n"
          ],
          "name": "stdout"
        }
      ]
    },
    {
      "cell_type": "markdown",
      "metadata": {
        "id": "4wO3nGQhAlHv"
      },
      "source": [
        "Add parentheses to the following expression so that it evaluates to 0."
      ]
    },
    {
      "cell_type": "code",
      "metadata": {
        "id": "g2CeM1PSAt3a",
        "colab": {
          "base_uri": "https://localhost:8080/"
        },
        "outputId": "6f12ecf4-4065-49ff-d94c-f4d0a65c14cc"
      },
      "source": [
        "8 - (3 * 2) - (1 + 1)"
      ],
      "execution_count": null,
      "outputs": [
        {
          "output_type": "stream",
          "text": [
            "0\n"
          ],
          "name": "stdout"
        }
      ]
    },
    {
      "cell_type": "markdown",
      "metadata": {
        "id": "E7NqRPo6BBev"
      },
      "source": [
        "A, B and C have agreed to pool their Halloween candy and split it evenly among themselves.\n",
        "For the sake of their friendship, any candies left over will be smashed. For example, if they collectively\n",
        "bring home 91 candies, they'll take 30 each and smash 1.\n",
        "\n",
        "Write an arithmetic expression below to calculate how many candies they must smash for a given haul."
      ]
    },
    {
      "cell_type": "code",
      "metadata": {
        "id": "q7UOoYeNBHVq",
        "colab": {
          "base_uri": "https://localhost:8080/"
        },
        "outputId": "c03ee5ef-3267-49bb-fab7-e9230f3db074"
      },
      "source": [
        "# Variables representing the number of candies collected by alice, bob, and carol\n",
        "a_candies = 121\n",
        "b_candies = 77\n",
        "c_candies = 109\n",
        "\n",
        "# Your code goes here! Replace the right-hand side of this assignment with an expression\n",
        "# involving a_candies, b_candies, and c_candies\n",
        "to_smash = (a_candies+b_candies+c_candies)%3"
      ],
      "execution_count": null,
      "outputs": [
        {
          "output_type": "stream",
          "text": [
            "1\n"
          ],
          "name": "stdout"
        }
      ]
    },
    {
      "cell_type": "markdown",
      "metadata": {
        "id": "OJzUEowGB2Hv"
      },
      "source": [
        "# Make your game \n",
        "Like the simple game earlier, if the character moves to the right, the game doesn't end. Anything else, and the game ends. Code your own version of this game. "
      ]
    },
    {
      "cell_type": "code",
      "metadata": {
        "id": "QnZvwkjECGik",
        "colab": {
          "base_uri": "https://localhost:8080/"
        },
        "outputId": "852635b4-f1b4-4df7-9522-b441ef733ca2"
      },
      "source": [
        "n=input(\"********\\n    😃    \\n********\\n Go left or right \")\n",
        "a = ' '\n",
        "while n=='right' or n=='Right':\n",
        "  print('********\\n  '+a+'  😃    \\n********\\n ')\n",
        "  a+=' '\n",
        "  n=input(\"Go left or right \")\n",
        "print('Game Ends !!!')\n",
        "\n"
      ],
      "execution_count": null,
      "outputs": [
        {
          "output_type": "stream",
          "text": [
            "********\n",
            "    😃    \n",
            "********\n",
            " Go left or right right\n",
            "********\n",
            "     😃    \n",
            "********\n",
            " \n",
            "Go left or right right\n",
            "********\n",
            "      😃    \n",
            "********\n",
            " \n",
            "Go left or right right\n",
            "********\n",
            "       😃    \n",
            "********\n",
            " \n",
            "Go left or right Right\n",
            "********\n",
            "        😃    \n",
            "********\n",
            " \n",
            "Go left or right left\n",
            "Game Ends !!!\n"
          ],
          "name": "stdout"
        }
      ]
    },
    {
      "cell_type": "markdown",
      "metadata": {
        "id": "eMQ_KqIeCHMD"
      },
      "source": [
        "To the above code, now make the said modifications. Start with a smily face, 😃 and then if the user moves to the right for 3 times or more, only then show the sad face 😔. You can achieve this with the help of a counter variable. \n",
        "\n",
        "Eg:\n",
        "\n",
        "`a=0`\n",
        "\n",
        "` while <condition> : `\n",
        "\n",
        "`<set of intructions>`\n",
        "\n",
        "` a+=1`\n",
        "\n",
        "` if(a>=3):`\n",
        "\n",
        "` <intructions>`\n",
        "\n",
        "If you want to make your own version, please do so. This is always better. \n",
        " "
      ]
    },
    {
      "cell_type": "code",
      "metadata": {
        "id": "QVlgjzogCyCW",
        "colab": {
          "base_uri": "https://localhost:8080/"
        },
        "outputId": "f789f792-f978-4228-85c2-82a0920846d1"
      },
      "source": [
        "n=input(\"********\\n    😃    \\n********\\n Go left or right \")\n",
        "a=' '\n",
        "c = 0\n",
        "while n==\"right\" or n==\"Right\":\n",
        "  #enter your modification here  \n",
        "  a+=' '\n",
        "  c+=1\n",
        "  print('********\\n  '+a+'  😃    \\n********\\n ')\n",
        "  n=input(\"Go left or right \")\n",
        "\n",
        "  if c==3:\n",
        "    print('********\\n  '+a+'  😔    \\n********\\n ')  \n",
        "    break;\n",
        "\n",
        "\n",
        "print(\"You have found a path 😃\")"
      ],
      "execution_count": null,
      "outputs": [
        {
          "output_type": "stream",
          "text": [
            "********\n",
            "    😃    \n",
            "********\n",
            " Go left or right right\n",
            "********\n",
            "      😃    \n",
            "********\n",
            " \n",
            "Go left or right right\n",
            "********\n",
            "       😃    \n",
            "********\n",
            " \n",
            "Go left or right left\n",
            "You have found a path 😃\n"
          ],
          "name": "stdout"
        }
      ]
    }
  ]
}
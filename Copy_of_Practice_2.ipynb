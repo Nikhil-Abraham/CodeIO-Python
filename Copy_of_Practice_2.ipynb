{
  "nbformat": 4,
  "nbformat_minor": 0,
  "metadata": {
    "colab": {
      "name": "Copy of Practice 2.ipynb",
      "provenance": [],
      "collapsed_sections": []
    },
    "kernelspec": {
      "name": "python3",
      "display_name": "Python 3"
    },
    "language_info": {
      "name": "python"
    }
  },
  "cells": [
    {
      "cell_type": "markdown",
      "metadata": {
        "id": "foPjwFSOqNOL"
      },
      "source": [
        "### Practice assignment 2 \n",
        "---\n",
        "For each of the five strings below, predict what `len()` would return when passed that string. Use the variable `length` to record your answer, then run the cell to check whether you were right. "
      ]
    },
    {
      "cell_type": "code",
      "metadata": {
        "id": "545NnkyppnwQ",
        "colab": {
          "base_uri": "https://localhost:8080/"
        },
        "outputId": "1faa71c8-2318-4d82-9b4b-c6d2f442ba75"
      },
      "source": [
        "a = \"\"\n",
        "length = 0 #enter value here\n",
        "if len(a)==length:\n",
        "  print(\"correct answer \")"
      ],
      "execution_count": null,
      "outputs": [
        {
          "output_type": "stream",
          "text": [
            "correct answer \n"
          ],
          "name": "stdout"
        }
      ]
    },
    {
      "cell_type": "code",
      "metadata": {
        "colab": {
          "base_uri": "https://localhost:8080/"
        },
        "id": "VzU_HMpq8ZKT",
        "outputId": "f02f8343-a3b4-41b0-f915-71cbe52f24d4"
      },
      "source": [
        "def q(x,y):\n",
        "  return (x,y)\n",
        "t = q(1,2)\n",
        "print(t)\n"
      ],
      "execution_count": null,
      "outputs": [
        {
          "output_type": "stream",
          "text": [
            "(1, 2)\n"
          ],
          "name": "stdout"
        }
      ]
    },
    {
      "cell_type": "code",
      "metadata": {
        "colab": {
          "base_uri": "https://localhost:8080/"
        },
        "id": "et6dPmBfJRXy",
        "outputId": "a70827d1-279e-4845-885b-92298a9c3f45"
      },
      "source": [
        "l = [1,2,3]\n",
        "l.append([4,5])\n",
        "print(l)"
      ],
      "execution_count": null,
      "outputs": [
        {
          "output_type": "stream",
          "text": [
            "[1, 2, 3, [4, 5]]\n"
          ],
          "name": "stdout"
        }
      ]
    },
    {
      "cell_type": "code",
      "metadata": {
        "id": "IYCabKHnrHKk",
        "colab": {
          "base_uri": "https://localhost:8080/"
        },
        "outputId": "edd29c40-4664-47a2-eb98-127489cd3686"
      },
      "source": [
        "c = 'it\\'s ok'\n",
        "length = 7 #enter value here\n",
        "if len(c)==length:\n",
        "  print(\"Correct answer\")"
      ],
      "execution_count": null,
      "outputs": [
        {
          "output_type": "stream",
          "text": [
            "Correct answer\n"
          ],
          "name": "stdout"
        }
      ]
    },
    {
      "cell_type": "code",
      "metadata": {
        "id": "Ei5asuAirRvG",
        "colab": {
          "base_uri": "https://localhost:8080/"
        },
        "outputId": "c293cd83-8a25-4a49-c5f4-93fde49057c9"
      },
      "source": [
        "d = \"\"\"hey\"\"\"\n",
        "length = 3 #enter value here \n",
        "if len(d)==length:\n",
        "  print(\"correct answer\")"
      ],
      "execution_count": null,
      "outputs": [
        {
          "output_type": "stream",
          "text": [
            "correct answer\n"
          ],
          "name": "stdout"
        }
      ]
    },
    {
      "cell_type": "code",
      "metadata": {
        "id": "49edi-GArc_q",
        "colab": {
          "base_uri": "https://localhost:8080/"
        },
        "outputId": "8a1bcf52-a4b9-4218-eab7-464f092029f2"
      },
      "source": [
        "e = '\\n'\n",
        "length = 1 #enter value here\n",
        "if len(e)==length:\n",
        "  print(\"Correct answer\")"
      ],
      "execution_count": null,
      "outputs": [
        {
          "output_type": "stream",
          "text": [
            "Correct answer\n"
          ],
          "name": "stdout"
        }
      ]
    },
    {
      "cell_type": "markdown",
      "metadata": {
        "id": "HkUt9_o4xTHu"
      },
      "source": [
        "# Simple String Problems\n",
        "1. Take a string `s`, change the first character of it to `y` and then print it\n",
        "\n"
      ]
    },
    {
      "cell_type": "code",
      "metadata": {
        "id": "IkyHvijOxjvY",
        "colab": {
          "base_uri": "https://localhost:8080/"
        },
        "outputId": "69ef0ec4-6f48-4822-d814-51b49e3e4565"
      },
      "source": [
        "s = 'abcdef'\n",
        "#enter code here\n",
        "s = s.replace('a','y')\n",
        "print(s)"
      ],
      "execution_count": null,
      "outputs": [
        {
          "output_type": "stream",
          "text": [
            "ybcdef\n"
          ],
          "name": "stdout"
        }
      ]
    },
    {
      "cell_type": "markdown",
      "metadata": {
        "id": "CJLFPsIfyKnx"
      },
      "source": [
        "2. Take the string `s`. Asnwer the set of values to go with it: \n",
        "\n",
        "\n",
        "> Print all values\n",
        "\n"
      ]
    },
    {
      "cell_type": "code",
      "metadata": {
        "id": "2kEp-_e-yKWn",
        "colab": {
          "base_uri": "https://localhost:8080/"
        },
        "outputId": "f72e3aa6-a19f-41f8-e501-03ce3a6cf0cd"
      },
      "source": [
        "s = 'abcdef'\n",
        "#find string corresponding to s[1:4]\n",
        "print(s[1:4]) #bcd\n",
        "#find string corresponding to s[2:7:2]\n",
        "print(s[2:7:2]) #ce\n",
        "#print the full string\n",
        "print(s) #abcdef\n",
        "#Invert the string\n",
        "print(s[::-1])\n",
        "#concat the inverted and normal string, and print it\n",
        "print(s+s[::-1])"
      ],
      "execution_count": null,
      "outputs": [
        {
          "output_type": "stream",
          "text": [
            "bcd\n",
            "ce\n",
            "abcdef\n",
            "fedcba\n",
            "abcdeffedcba\n"
          ],
          "name": "stdout"
        }
      ]
    },
    {
      "cell_type": "markdown",
      "metadata": {
        "id": "d2gcH0WIzAco"
      },
      "source": [
        "3. Modify the below code without using the `len()` function to get the same result"
      ]
    },
    {
      "cell_type": "code",
      "metadata": {
        "id": "2ytRTaE7zHtJ",
        "colab": {
          "base_uri": "https://localhost:8080/"
        },
        "outputId": "9940aa5c-f180-4163-a7eb-7d7cf7686ae8"
      },
      "source": [
        "s = 'heijklmo'\n",
        "for c in s: #change this line\n",
        "  if c == 'h' or c == 'm': #change this line\n",
        "    print(\"Letter h or m is present\")\n",
        "    break"
      ],
      "execution_count": null,
      "outputs": [
        {
          "output_type": "stream",
          "text": [
            "Letter h or m is present\n"
          ],
          "name": "stdout"
        }
      ]
    },
    {
      "cell_type": "markdown",
      "metadata": {
        "id": "b_LQVJ8Pz6Fs"
      },
      "source": [
        "4. Modify the below code by switching the `while` loop with a `for` loop"
      ]
    },
    {
      "cell_type": "code",
      "metadata": {
        "id": "ix-gZ_rDz5pM",
        "colab": {
          "base_uri": "https://localhost:8080/"
        },
        "outputId": "4a9d434e-5824-49e7-89ab-adb931188a66"
      },
      "source": [
        "a = \"aefhilmnorsxAEFHILMNORSX\"\n",
        "word = input(\"I will cheer for you, enter a word\")\n",
        "times = int(input(\"Enthusiasm leve(1-10\"))\n",
        "i = 0\n",
        "for i in range(len(word)):\n",
        "  char = word[i]\n",
        "  if char in a:\n",
        "    print(\"Give me an \"+char+ \" ! \"+char)\n",
        "  else: \n",
        "    print(\"give me a \"+char+ \" ! \"+char)\n",
        "  i+=1\n",
        "print(\"What does that spell? \")\n",
        "for i in range(times):\n",
        "  print(word+ \" !!!\")"
      ],
      "execution_count": null,
      "outputs": [
        {
          "output_type": "stream",
          "text": [
            "I will cheer for you, enter a wordbanana\n",
            "Enthusiasm leve(1-102\n",
            "give me a b ! b\n",
            "Give me an a ! a\n",
            "Give me an n ! n\n",
            "Give me an a ! a\n",
            "Give me an n ! n\n",
            "Give me an a ! a\n",
            "What does that spell? \n",
            "banana !!!\n",
            "banana !!!\n"
          ],
          "name": "stdout"
        }
      ]
    },
    {
      "cell_type": "markdown",
      "metadata": {
        "id": "k4cOXjHj0o_B"
      },
      "source": [
        "# Guess check Method for finding cube root\n",
        "\n",
        "Guess check method is coded by starting with a guess `g` and the given cube numer `c` whose cube root we are trying to estimate. You can either give `g` a start value or use `for` loops. This is the logic: \n",
        "\n",
        "`for g in range(abs(cube)+1):`\n",
        "\n",
        "\n",
        "> `if g**3 >=cube:` -> then break \n",
        "\n",
        "> if `g**3 !=cube` then it's not a perfect cube. If `cube < 0` then negate `g` ,print the cube root of `cube`\n",
        "\n",
        "\n",
        "\n"
      ]
    },
    {
      "cell_type": "code",
      "metadata": {
        "id": "VXcvAZd82PJs",
        "colab": {
          "base_uri": "https://localhost:8080/"
        },
        "outputId": "1137de61-f866-4369-bf38-7a82be1d31fa"
      },
      "source": [
        "cube = -125\n",
        "for g in range(abs(cube)+1):\n",
        "  #write your code here\n",
        "  if cube < 0:\n",
        "    g = -g\n",
        "    if g == 0:\n",
        "      continue\n",
        "    else:\n",
        "      if g**3 < cube:\n",
        "        flag = 0\n",
        "        break;\n",
        "  else:\n",
        "    if g**3 > cube:\n",
        "      flag = 0\n",
        "      break;\n",
        "\n",
        "\n",
        "  print('>>>>>\\tCube to Guess :',cube,'\\t<<<<<\\n')\n",
        "\n",
        "  print('current guess :',g,': Its Cube =',g**3,'\\n')\n",
        "\n",
        "  if g**3 == cube:\n",
        "    print('Found cube root :',g)\n",
        "    flag=1\n",
        "    break\n",
        "\n",
        "if flag == 0:\n",
        "  print('Not A Perfect Cube !! ')\n"
      ],
      "execution_count": null,
      "outputs": [
        {
          "output_type": "stream",
          "text": [
            ">>>>>\tCube to Guess : -125 \t<<<<<\n",
            "\n",
            "current guess : -1 : Its Cube = -1 \n",
            "\n",
            ">>>>>\tCube to Guess : -125 \t<<<<<\n",
            "\n",
            "current guess : -2 : Its Cube = -8 \n",
            "\n",
            ">>>>>\tCube to Guess : -125 \t<<<<<\n",
            "\n",
            "current guess : -3 : Its Cube = -27 \n",
            "\n",
            ">>>>>\tCube to Guess : -125 \t<<<<<\n",
            "\n",
            "current guess : -4 : Its Cube = -64 \n",
            "\n",
            ">>>>>\tCube to Guess : -125 \t<<<<<\n",
            "\n",
            "current guess : -5 : Its Cube = -125 \n",
            "\n",
            "Found cube root : -5\n"
          ],
          "name": "stdout"
        }
      ]
    },
    {
      "cell_type": "markdown",
      "metadata": {
        "id": "5JZg_AXE2iUs"
      },
      "source": [
        "# Approximate Solution \n",
        "\n",
        "Find the cube root of a number `cube` by approximating to the value, starting with a guess value `g` of your choice. We define approximate method by defining a neighborhood of acceptance `epsilon` and the learning rate `increment`. We start with a guess `g` and for each iteration, we check if `|g**3 - cube| >= epsilon`and then update the guess variable as `g = g+increment`. If at the end of all iterations, `|g**3 - cube| > epsilon` then print that it is not a perfect cube, `else` print that it is a ferfect cube. \n",
        " \n",
        "\n",
        "1. Initialise variable `cube = 27` and `epsilon = 0.1` for the boundry\n",
        "2. Initialise `g = 0` and `increment = 0.01`.\n",
        "3. Create counter `num_g` to keep track of number of iterations. \n",
        "4. Give your own values for `cube`,`g`,`increment` and `epsilon` to test the boundry and get comfortable with overshooting and undershooting your optimal answer. "
      ]
    },
    {
      "cell_type": "code",
      "metadata": {
        "id": "SMl9xGiL2_n2",
        "colab": {
          "base_uri": "https://localhost:8080/"
        },
        "outputId": "55b7e554-71d8-4a84-a64d-4c77f1740e83"
      },
      "source": [
        "#write your code here \n",
        "cube = 27\n",
        "epsilon = 0.1\n",
        "increment = 0.01\n",
        "g = 0\n",
        "num_g = 0\n",
        "while(True):\n",
        "  \n",
        "  if round(abs(g**3-cube),2) >= epsilon:\n",
        "    g = g + increment\n",
        "    num_g = num_g + 1\n",
        "    continue\n",
        "  elif round(abs(g**3-cube),2) > epsilon:\n",
        "    print('Not a Perfect Cube !! ')\n",
        "    break\n",
        "  else:\n",
        "    print('Solution is :',g)\n",
        "    print('Counter :',num_g,'\\nEpsilon :',epsilon,'\\nIncrementation Value :',increment)\n",
        "    break\n",
        "\n"
      ],
      "execution_count": null,
      "outputs": [
        {
          "output_type": "stream",
          "text": [
            "Solution is : 2.99999999999998\n",
            "Counter : 300 \n",
            "Epsilon : 0.1 \n",
            "Incrementation Value : 0.01\n"
          ],
          "name": "stdout"
        }
      ]
    },
    {
      "cell_type": "markdown",
      "metadata": {
        "id": "afG47JNS4iAw"
      },
      "source": [
        "# Bisection method \n",
        "In this method, the gap between `g` and `cube` keeps on diving in 2 until the best solution is reached. Try different values of `low`,`cube` and `epsilon` to get a better understanding of how expensive computation can be."
      ]
    },
    {
      "cell_type": "code",
      "metadata": {
        "id": "CVuQmTb86SI0",
        "colab": {
          "base_uri": "https://localhost:8080/"
        },
        "outputId": "95aa3358-e9ae-43cc-c7d6-7febe881d145"
      },
      "source": [
        "cube = 27\n",
        "epsilon = 0.01\n",
        "num_g = 0\n",
        "low = 0\n",
        "high = cube\n",
        "g = (high+low)/2\n",
        "while abs(g**3 - cube) >= epsilon:\n",
        "  if g**3 < cube:\n",
        "    low = g\n",
        "  else:\n",
        "    high = g\n",
        "  g = (high+low)/2\n",
        "  num_g+=1\n",
        "print('num_guess is',num_g)\n",
        "print(g,'is close to cube root of',cube)"
      ],
      "execution_count": null,
      "outputs": [
        {
          "output_type": "stream",
          "text": [
            "num_guess is 14\n",
            "3.000091552734375 is close to cube root of 27\n"
          ],
          "name": "stdout"
        }
      ]
    },
    {
      "cell_type": "markdown",
      "metadata": {
        "id": "5fYbZ4Ca6TIz"
      },
      "source": [
        "Now for the above code, make these modification: \n",
        "1. modify it to work with negetive cubes\n",
        "2. modify it to work with cubes between 0 and 1."
      ]
    },
    {
      "cell_type": "code",
      "metadata": {
        "id": "2ypwntHt6jRs",
        "colab": {
          "base_uri": "https://localhost:8080/"
        },
        "outputId": "c6dd69cc-0620-4d0a-946b-a76585215b70"
      },
      "source": [
        "cube = -27\n",
        "epsilon = 0.01\n",
        "num_g = 0\n",
        "low = cube\n",
        "high = 0\n",
        "g = (low-high)/2\n",
        "while abs(g**3 - cube) >= epsilon:\n",
        "  if g**3 < cube:\n",
        "    low = g\n",
        "  else:\n",
        "    high = g\n",
        "  g = (high+low)/2\n",
        "  num_g+=1\n",
        "print('num_guess is',num_g)\n",
        "print(g,'is close to cube root of',cube)\n",
        "\n",
        "#Btw 0 and 1\n",
        "\n",
        "cube = 0.008\n",
        "epsilon = 0.01\n",
        "num_g = 0\n",
        "low = cube\n",
        "high = 1\n",
        "g = (high+low)/2\n",
        "while abs(g**3 - cube) >= epsilon:\n",
        "  if g**3 < cube:\n",
        "    low = g\n",
        "  else:\n",
        "    high = g\n",
        "  g = (high+low)/2\n",
        "  num_g+=1\n",
        "print('num_guess is',num_g)\n",
        "print(g,'is close to cube root of',cube)"
      ],
      "execution_count": 2,
      "outputs": [
        {
          "output_type": "stream",
          "text": [
            "num_guess is 1\n",
            "0.256 is close to cube root of 0.008\n"
          ],
          "name": "stdout"
        }
      ]
    },
    {
      "cell_type": "markdown",
      "metadata": {
        "id": "xGTjF4NLr9_2"
      },
      "source": [
        "# Try for yourself \n",
        " Given a string, it should return whether or not that string represents a valid pin code. For our purposes, a valid pin code is any string consisting of exactly 6 digits.\n",
        "\n",
        "HINT: `str` has a method that will be useful here. Use `help(str)` to review a list of string methods. There is a method called `isdigit` that checks for the condition of having all digits only."
      ]
    },
    {
      "cell_type": "code",
      "metadata": {
        "id": "AMuHSECvsJQn",
        "colab": {
          "base_uri": "https://localhost:8080/"
        },
        "outputId": "dc7b08d2-6918-43aa-b228-8cc150937a0f"
      },
      "source": [
        "#do not change this code. Write your code only after pass\n",
        "def is_valid_pin(pin_code):\n",
        "    \"\"\"Returns whether the input string is a valid (6 digit) pin code\n",
        "    \"\"\"\n",
        "    pass\n",
        "    return pin_code.isdigit()\n",
        "#do not change the code below\n",
        "z = is_valid_pin('560001')\n",
        "k= is_valid_pin('5600af')\n",
        "if(z==True and k == False):\n",
        "  print(\"Your answer is correct\")\n",
        "else:\n",
        "  print(\"Incorrect logic. Check your return statement. You may have missed checking for digits. use help(srt)\")\n"
      ],
      "execution_count": null,
      "outputs": [
        {
          "output_type": "stream",
          "text": [
            "Your answer is correct\n"
          ],
          "name": "stdout"
        }
      ]
    },
    {
      "cell_type": "code",
      "metadata": {
        "id": "xOJarPAI7Bxm"
      },
      "source": [
        "# you can try combinations of the above code, or any code for your practice. "
      ],
      "execution_count": null,
      "outputs": []
    }
  ]
}